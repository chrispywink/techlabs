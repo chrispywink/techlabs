{
 "cells": [
  {
   "cell_type": "markdown",
   "metadata": {},
   "source": [
    "<img src=\"TechLabs.png\">"
   ]
  },
  {
   "cell_type": "markdown",
   "metadata": {},
   "source": [
    "<h2>Please enter your full name here: Christina Winkemann</h2>"
   ]
  },
  {
   "cell_type": "markdown",
   "metadata": {},
   "source": [
    "\n",
    "<p> This exam will test your knowledge in Artificial Intelligence. </p>\n",
    "<p> We will test the following: </p>\n",
    "\n",
    "- Logistic Regressions\n",
    "- Neural Networks\n",
    "- Monte Carlo Simulation"
   ]
  },
  {
   "cell_type": "markdown",
   "metadata": {},
   "source": [
    "# Question 1:\n",
    "Below is the code to import a standard dataset with breast cancer.\n",
    "When you run the cell, you will have it stored as the object \"data\",\n",
    "and the description of the dataset is printed out for you.\n",
    "\n",
    "### Your task is to create two models for classifying the diagnosis, and compare the accuracy metrics for the two:\n",
    "### 1. a) Logistic Regression: \n",
    "\"sklearn.linear_model\" offers good logit classifiers. Because the dataset is fairly small (~500 rows), we suggest that you use the \"liblinear\" solver for fitting the logit classifier.\n",
    "\n",
    "Split the dataset into a test and training (30% test / 70% training) dataset and train the model on the training dataset. Then, classify the test dataset, and compute the accuracy, which you can print as an output.\n",
    "\n",
    "P.S.: We do not expect you to regularize for type 1 or type 2 errors. Your goal is to build models that classify well the diagnosis. Also, we do not expect you to spend hours on feature engineering and/or other things that may or may not improve testing accuracy. A good answer shall just contain a sensible model and the testing accuracy."
   ]
  },
  {
   "cell_type": "code",
   "execution_count": 64,
   "metadata": {},
   "outputs": [
    {
     "name": "stdout",
     "output_type": "stream",
     "text": [
      "(569, 30)\n"
     ]
    }
   ],
   "source": [
    "import numpy as np\n",
    "\n",
    "from sklearn import datasets\n",
    "data = datasets.load_breast_cancer()\n",
    "print(np.shape(data.data))"
   ]
  },
  {
   "cell_type": "code",
   "execution_count": 65,
   "metadata": {},
   "outputs": [
    {
     "name": "stdout",
     "output_type": "stream",
     "text": [
      ".. _breast_cancer_dataset:\n",
      "\n",
      "Breast cancer wisconsin (diagnostic) dataset\n",
      "--------------------------------------------\n",
      "\n",
      "**Data Set Characteristics:**\n",
      "\n",
      "    :Number of Instances: 569\n",
      "\n",
      "    :Number of Attributes: 30 numeric, predictive attributes and the class\n",
      "\n",
      "    :Attribute Information:\n",
      "        - radius (mean of distances from center to points on the perimeter)\n",
      "        - texture (standard deviation of gray-scale values)\n",
      "        - perimeter\n",
      "        - area\n",
      "        - smoothness (local variation in radius lengths)\n",
      "        - compactness (perimeter^2 / area - 1.0)\n",
      "        - concavity (severity of concave portions of the contour)\n",
      "        - concave points (number of concave portions of the contour)\n",
      "        - symmetry\n",
      "        - fractal dimension (\"coastline approximation\" - 1)\n",
      "\n",
      "        The mean, standard error, and \"worst\" or largest (mean of the three\n",
      "        worst/largest values) of these features were computed for each image,\n",
      "        resulting in 30 features.  For instance, field 0 is Mean Radius, field\n",
      "        10 is Radius SE, field 20 is Worst Radius.\n",
      "\n",
      "        - class:\n",
      "                - WDBC-Malignant\n",
      "                - WDBC-Benign\n",
      "\n",
      "    :Summary Statistics:\n",
      "\n",
      "    ===================================== ====== ======\n",
      "                                           Min    Max\n",
      "    ===================================== ====== ======\n",
      "    radius (mean):                        6.981  28.11\n",
      "    texture (mean):                       9.71   39.28\n",
      "    perimeter (mean):                     43.79  188.5\n",
      "    area (mean):                          143.5  2501.0\n",
      "    smoothness (mean):                    0.053  0.163\n",
      "    compactness (mean):                   0.019  0.345\n",
      "    concavity (mean):                     0.0    0.427\n",
      "    concave points (mean):                0.0    0.201\n",
      "    symmetry (mean):                      0.106  0.304\n",
      "    fractal dimension (mean):             0.05   0.097\n",
      "    radius (standard error):              0.112  2.873\n",
      "    texture (standard error):             0.36   4.885\n",
      "    perimeter (standard error):           0.757  21.98\n",
      "    area (standard error):                6.802  542.2\n",
      "    smoothness (standard error):          0.002  0.031\n",
      "    compactness (standard error):         0.002  0.135\n",
      "    concavity (standard error):           0.0    0.396\n",
      "    concave points (standard error):      0.0    0.053\n",
      "    symmetry (standard error):            0.008  0.079\n",
      "    fractal dimension (standard error):   0.001  0.03\n",
      "    radius (worst):                       7.93   36.04\n",
      "    texture (worst):                      12.02  49.54\n",
      "    perimeter (worst):                    50.41  251.2\n",
      "    area (worst):                         185.2  4254.0\n",
      "    smoothness (worst):                   0.071  0.223\n",
      "    compactness (worst):                  0.027  1.058\n",
      "    concavity (worst):                    0.0    1.252\n",
      "    concave points (worst):               0.0    0.291\n",
      "    symmetry (worst):                     0.156  0.664\n",
      "    fractal dimension (worst):            0.055  0.208\n",
      "    ===================================== ====== ======\n",
      "\n",
      "    :Missing Attribute Values: None\n",
      "\n",
      "    :Class Distribution: 212 - Malignant, 357 - Benign\n",
      "\n",
      "    :Creator:  Dr. William H. Wolberg, W. Nick Street, Olvi L. Mangasarian\n",
      "\n",
      "    :Donor: Nick Street\n",
      "\n",
      "    :Date: November, 1995\n",
      "\n",
      "This is a copy of UCI ML Breast Cancer Wisconsin (Diagnostic) datasets.\n",
      "https://goo.gl/U2Uwz2\n",
      "\n",
      "Features are computed from a digitized image of a fine needle\n",
      "aspirate (FNA) of a breast mass.  They describe\n",
      "characteristics of the cell nuclei present in the image.\n",
      "\n",
      "Separating plane described above was obtained using\n",
      "Multisurface Method-Tree (MSM-T) [K. P. Bennett, \"Decision Tree\n",
      "Construction Via Linear Programming.\" Proceedings of the 4th\n",
      "Midwest Artificial Intelligence and Cognitive Science Society,\n",
      "pp. 97-101, 1992], a classification method which uses linear\n",
      "programming to construct a decision tree.  Relevant features\n",
      "were selected using an exhaustive search in the space of 1-4\n",
      "features and 1-3 separating planes.\n",
      "\n",
      "The actual linear program used to obtain the separating plane\n",
      "in the 3-dimensional space is that described in:\n",
      "[K. P. Bennett and O. L. Mangasarian: \"Robust Linear\n",
      "Programming Discrimination of Two Linearly Inseparable Sets\",\n",
      "Optimization Methods and Software 1, 1992, 23-34].\n",
      "\n",
      "This database is also available through the UW CS ftp server:\n",
      "\n",
      "ftp ftp.cs.wisc.edu\n",
      "cd math-prog/cpo-dataset/machine-learn/WDBC/\n",
      "\n",
      ".. topic:: References\n",
      "\n",
      "   - W.N. Street, W.H. Wolberg and O.L. Mangasarian. Nuclear feature extraction \n",
      "     for breast tumor diagnosis. IS&T/SPIE 1993 International Symposium on \n",
      "     Electronic Imaging: Science and Technology, volume 1905, pages 861-870,\n",
      "     San Jose, CA, 1993.\n",
      "   - O.L. Mangasarian, W.N. Street and W.H. Wolberg. Breast cancer diagnosis and \n",
      "     prognosis via linear programming. Operations Research, 43(4), pages 570-577, \n",
      "     July-August 1995.\n",
      "   - W.H. Wolberg, W.N. Street, and O.L. Mangasarian. Machine learning techniques\n",
      "     to diagnose breast cancer from fine-needle aspirates. Cancer Letters 77 (1994) \n",
      "     163-171.\n"
     ]
    }
   ],
   "source": [
    "print(data.DESCR)"
   ]
  },
  {
   "cell_type": "code",
   "execution_count": 67,
   "metadata": {
    "scrolled": true
   },
   "outputs": [
    {
     "name": "stdout",
     "output_type": "stream",
     "text": [
      "Requirement already satisfied: scikit-learn in /opt/anaconda3/envs/PythonCPU/lib/python3.7/site-packages (0.23.1)\n",
      "Requirement already satisfied: numpy>=1.13.3 in /opt/anaconda3/envs/PythonCPU/lib/python3.7/site-packages (from scikit-learn) (1.19.1)\n",
      "Requirement already satisfied: joblib>=0.11 in /opt/anaconda3/envs/PythonCPU/lib/python3.7/site-packages (from scikit-learn) (1.0.1)\n",
      "Requirement already satisfied: threadpoolctl>=2.0.0 in /opt/anaconda3/envs/PythonCPU/lib/python3.7/site-packages (from scikit-learn) (2.1.0)\n",
      "Requirement already satisfied: scipy>=0.19.1 in /opt/anaconda3/envs/PythonCPU/lib/python3.7/site-packages (from scikit-learn) (1.5.2)\n",
      "Note: you may need to restart the kernel to use updated packages.\n"
     ]
    }
   ],
   "source": [
    "pip install \"scikit-learn\""
   ]
  },
  {
   "cell_type": "code",
   "execution_count": 4,
   "metadata": {},
   "outputs": [],
   "source": [
    "from sklearn.model_selection import train_test_split"
   ]
  },
  {
   "cell_type": "code",
   "execution_count": 5,
   "metadata": {},
   "outputs": [],
   "source": [
    "#set the x and y \n",
    "x = data.data\n",
    "y = data.target"
   ]
  },
  {
   "cell_type": "code",
   "execution_count": 6,
   "metadata": {},
   "outputs": [
    {
     "name": "stdout",
     "output_type": "stream",
     "text": [
      "[[1.799e+01 1.038e+01 1.228e+02 1.001e+03 1.184e-01 2.776e-01 3.001e-01\n",
      "  1.471e-01 2.419e-01 7.871e-02 1.095e+00 9.053e-01 8.589e+00 1.534e+02\n",
      "  6.399e-03 4.904e-02 5.373e-02 1.587e-02 3.003e-02 6.193e-03 2.538e+01\n",
      "  1.733e+01 1.846e+02 2.019e+03 1.622e-01 6.656e-01 7.119e-01 2.654e-01\n",
      "  4.601e-01 1.189e-01]\n",
      " [2.057e+01 1.777e+01 1.329e+02 1.326e+03 8.474e-02 7.864e-02 8.690e-02\n",
      "  7.017e-02 1.812e-01 5.667e-02 5.435e-01 7.339e-01 3.398e+00 7.408e+01\n",
      "  5.225e-03 1.308e-02 1.860e-02 1.340e-02 1.389e-02 3.532e-03 2.499e+01\n",
      "  2.341e+01 1.588e+02 1.956e+03 1.238e-01 1.866e-01 2.416e-01 1.860e-01\n",
      "  2.750e-01 8.902e-02]\n",
      " [1.969e+01 2.125e+01 1.300e+02 1.203e+03 1.096e-01 1.599e-01 1.974e-01\n",
      "  1.279e-01 2.069e-01 5.999e-02 7.456e-01 7.869e-01 4.585e+00 9.403e+01\n",
      "  6.150e-03 4.006e-02 3.832e-02 2.058e-02 2.250e-02 4.571e-03 2.357e+01\n",
      "  2.553e+01 1.525e+02 1.709e+03 1.444e-01 4.245e-01 4.504e-01 2.430e-01\n",
      "  3.613e-01 8.758e-02]\n",
      " [1.142e+01 2.038e+01 7.758e+01 3.861e+02 1.425e-01 2.839e-01 2.414e-01\n",
      "  1.052e-01 2.597e-01 9.744e-02 4.956e-01 1.156e+00 3.445e+00 2.723e+01\n",
      "  9.110e-03 7.458e-02 5.661e-02 1.867e-02 5.963e-02 9.208e-03 1.491e+01\n",
      "  2.650e+01 9.887e+01 5.677e+02 2.098e-01 8.663e-01 6.869e-01 2.575e-01\n",
      "  6.638e-01 1.730e-01]\n",
      " [2.029e+01 1.434e+01 1.351e+02 1.297e+03 1.003e-01 1.328e-01 1.980e-01\n",
      "  1.043e-01 1.809e-01 5.883e-02 7.572e-01 7.813e-01 5.438e+00 9.444e+01\n",
      "  1.149e-02 2.461e-02 5.688e-02 1.885e-02 1.756e-02 5.115e-03 2.254e+01\n",
      "  1.667e+01 1.522e+02 1.575e+03 1.374e-01 2.050e-01 4.000e-01 1.625e-01\n",
      "  2.364e-01 7.678e-02]]\n",
      "(569, 30)\n",
      "[0 0 0 0 0]\n",
      "(569,)\n"
     ]
    }
   ],
   "source": [
    "# display the shape and first few elements of our data\n",
    "print(x[:5])\n",
    "print(x.shape)\n",
    "print(y[:5])\n",
    "print(y.shape)"
   ]
  },
  {
   "cell_type": "code",
   "execution_count": 7,
   "metadata": {},
   "outputs": [],
   "source": [
    "#set the train/test split\n",
    "x_train, x_test, y_train, y_test = train_test_split(x, y, test_size = 0.3)"
   ]
  },
  {
   "cell_type": "code",
   "execution_count": 8,
   "metadata": {},
   "outputs": [
    {
     "name": "stdout",
     "output_type": "stream",
     "text": [
      "(398, 30)\n",
      "(171, 30)\n",
      "(398,)\n",
      "(171,)\n"
     ]
    }
   ],
   "source": [
    "print(x_train.shape)\n",
    "print(x_test.shape)\n",
    "print(y_train.shape)\n",
    "print(y_test.shape)"
   ]
  },
  {
   "cell_type": "code",
   "execution_count": 9,
   "metadata": {},
   "outputs": [],
   "source": [
    "# run model\n",
    "from sklearn.linear_model import LogisticRegression\n",
    "LogReg = LogisticRegression(solver = \"liblinear\")\n",
    "LogReg.fit(x_train, y_train)"
   ]
  },
  {
   "cell_type": "code",
   "execution_count": 11,
   "metadata": {},
   "outputs": [
    {
     "name": "stdout",
     "output_type": "stream",
     "text": [
      "0.9578207381370826\n"
     ]
    }
   ],
   "source": [
    "print(LogReg.score(x,y))"
   ]
  },
  {
   "cell_type": "markdown",
   "metadata": {},
   "source": [
    "# Print the logit accuracy below:"
   ]
  },
  {
   "cell_type": "code",
   "execution_count": 12,
   "metadata": {},
   "outputs": [
    {
     "name": "stdout",
     "output_type": "stream",
     "text": [
      "\n",
      "testing set accuracy with logit is: 0.9595782073813708\n"
     ]
    }
   ],
   "source": [
    "logitacc = \"0.9595782073813708\"\n",
    "print(f\"\\ntesting set accuracy with logit is: {logitacc}\")"
   ]
  },
  {
   "cell_type": "markdown",
   "metadata": {},
   "source": [
    "### 1. b) Feedforward Neural Network:\n",
    "So far, so good. Let's see how a feedforward neural network does for the same task.\n",
    "\n",
    "Take the same train/test split as in a), and construct the following neural network, which you fit to the data:"
   ]
  },
  {
   "cell_type": "code",
   "execution_count": 112,
   "metadata": {
    "jupyter": {
     "source_hidden": true
    },
    "scrolled": false
   },
   "outputs": [
    {
     "data": {
      "text/plain": [
       "['Model: \"sequential_2\"',\n",
       " '_________________________________________________________________',\n",
       " 'Layer (type)                 Output Shape              Param #   ',\n",
       " '=================================================================',\n",
       " 'dense_5 (Dense)              (None, 30)                930       ',\n",
       " '_________________________________________________________________',\n",
       " 'dense_6 (Dense)              (None, 50)                1550      ',\n",
       " '_________________________________________________________________',\n",
       " 'dense_7 (Dense)              (None, 30)                1530      ',\n",
       " '_________________________________________________________________',\n",
       " 'dense_8 (Dense)              (None, 1)                 31        ',\n",
       " '=================================================================',\n",
       " 'Total params: 4,041',\n",
       " 'Trainable params: 4,041',\n",
       " 'Non-trainable params: 0',\n",
       " '_________________________________________________________________']"
      ]
     },
     "execution_count": 112,
     "metadata": {},
     "output_type": "execute_result"
    }
   ],
   "source": [
    "import pickle\n",
    "pickle.loads(b'\\x80\\x03]q\\x00(X\\x15\\x00\\x00\\x00Model: \"sequential_2\"q\\x01XA\\x00\\x00\\x00_________________________________________________________________q\\x02XA\\x00\\x00\\x00Layer (type)                 Output Shape              Param #   q\\x03XA\\x00\\x00\\x00=================================================================q\\x04XA\\x00\\x00\\x00dense_5 (Dense)              (None, 30)                930       q\\x05XA\\x00\\x00\\x00_________________________________________________________________q\\x06XA\\x00\\x00\\x00dense_6 (Dense)              (None, 50)                1550      q\\x07XA\\x00\\x00\\x00_________________________________________________________________q\\x08XA\\x00\\x00\\x00dense_7 (Dense)              (None, 30)                1530      q\\tXA\\x00\\x00\\x00_________________________________________________________________q\\nXA\\x00\\x00\\x00dense_8 (Dense)              (None, 1)                 31        q\\x0bXA\\x00\\x00\\x00=================================================================q\\x0cX\\x13\\x00\\x00\\x00Total params: 4,041q\\rX\\x17\\x00\\x00\\x00Trainable params: 4,041q\\x0eX\\x17\\x00\\x00\\x00Non-trainable params: 0q\\x0fXA\\x00\\x00\\x00_________________________________________________________________q\\x10e.')"
   ]
  },
  {
   "cell_type": "code",
   "execution_count": 73,
   "metadata": {},
   "outputs": [],
   "source": [
    "import numpy as np \n",
    "from sklearn.preprocessing import StandardScaler \n",
    "import tensorflow \n",
    "import keras "
   ]
  },
  {
   "cell_type": "code",
   "execution_count": 74,
   "metadata": {},
   "outputs": [],
   "source": [
    "from keras import backend as K \n",
    "from keras.models import Sequential\n",
    "from keras.layers import Dense"
   ]
  },
  {
   "cell_type": "code",
   "execution_count": 103,
   "metadata": {},
   "outputs": [],
   "source": [
    "ann_model = Sequential()\n",
    "ann_model.add(Dense(30,input_dim = 30,activation = \"relu\"))\n",
    "ann_model.add(Dense(50,activation = \"relu\"))\n",
    "ann_model.add(Dense(30,activation = \"relu\"))\n",
    "ann_model.add(Dense(1,activation = \"sigmoid\"))"
   ]
  },
  {
   "cell_type": "code",
   "execution_count": 104,
   "metadata": {},
   "outputs": [],
   "source": [
    "ann_model.compile(optimizer = \"adam\", loss = \"binary_crossentropy\", metrics=[\"accuracy\"])"
   ]
  },
  {
   "cell_type": "code",
   "execution_count": 105,
   "metadata": {},
   "outputs": [
    {
     "name": "stdout",
     "output_type": "stream",
     "text": [
      "Epoch 1/20\n",
      "398/398 [==============================] - 1s 3ms/step - loss: 0.8612 - accuracy: 0.7211\n",
      "Epoch 2/20\n",
      "398/398 [==============================] - 0s 592us/step - loss: 0.5059 - accuracy: 0.8166\n",
      "Epoch 3/20\n",
      "398/398 [==============================] - 0s 575us/step - loss: 0.3961 - accuracy: 0.8291\n",
      "Epoch 4/20\n",
      "398/398 [==============================] - 0s 582us/step - loss: 0.3792 - accuracy: 0.8593\n",
      "Epoch 5/20\n",
      "398/398 [==============================] - 0s 562us/step - loss: 0.4561 - accuracy: 0.8417\n",
      "Epoch 6/20\n",
      "398/398 [==============================] - 0s 555us/step - loss: 0.3368 - accuracy: 0.8794\n",
      "Epoch 7/20\n",
      "398/398 [==============================] - 0s 661us/step - loss: 0.3241 - accuracy: 0.8819\n",
      "Epoch 8/20\n",
      "398/398 [==============================] - 0s 599us/step - loss: 0.3275 - accuracy: 0.8668\n",
      "Epoch 9/20\n",
      "398/398 [==============================] - 0s 548us/step - loss: 0.3384 - accuracy: 0.8719\n",
      "Epoch 10/20\n",
      "398/398 [==============================] - 0s 571us/step - loss: 0.3255 - accuracy: 0.8769\n",
      "Epoch 11/20\n",
      "398/398 [==============================] - 0s 544us/step - loss: 0.3229 - accuracy: 0.8869\n",
      "Epoch 12/20\n",
      "398/398 [==============================] - 0s 541us/step - loss: 0.2359 - accuracy: 0.9095\n",
      "Epoch 13/20\n",
      "398/398 [==============================] - 0s 737us/step - loss: 0.2660 - accuracy: 0.8970\n",
      "Epoch 14/20\n",
      "398/398 [==============================] - 0s 628us/step - loss: 0.4372 - accuracy: 0.8744\n",
      "Epoch 15/20\n",
      "398/398 [==============================] - 0s 550us/step - loss: 0.3647 - accuracy: 0.8794\n",
      "Epoch 16/20\n",
      "398/398 [==============================] - 0s 644us/step - loss: 0.2601 - accuracy: 0.9020\n",
      "Epoch 17/20\n",
      "398/398 [==============================] - 0s 599us/step - loss: 0.2683 - accuracy: 0.8920\n",
      "Epoch 18/20\n",
      "398/398 [==============================] - 0s 578us/step - loss: 0.2925 - accuracy: 0.8920\n",
      "Epoch 19/20\n",
      "398/398 [==============================] - 0s 590us/step - loss: 0.3440 - accuracy: 0.8719\n",
      "Epoch 20/20\n",
      "398/398 [==============================] - 0s 588us/step - loss: 0.2672 - accuracy: 0.8995\n"
     ]
    },
    {
     "data": {
      "text/plain": [
       "<keras.callbacks.callbacks.History at 0x7fd79bfe5dd0>"
      ]
     },
     "execution_count": 105,
     "metadata": {},
     "output_type": "execute_result"
    }
   ],
   "source": [
    "#run model with epochs = 20 and batch_size=5\n",
    "ann_model.fit(x_train, y_train, epochs = 20, batch_size = 5, verbose=1)"
   ]
  },
  {
   "cell_type": "code",
   "execution_count": 106,
   "metadata": {},
   "outputs": [
    {
     "name": "stdout",
     "output_type": "stream",
     "text": [
      "398 398\n"
     ]
    }
   ],
   "source": [
    "print(len(x_train), len(y_train))"
   ]
  },
  {
   "cell_type": "code",
   "execution_count": 107,
   "metadata": {},
   "outputs": [
    {
     "name": "stdout",
     "output_type": "stream",
     "text": [
      "171/171 [==============================] - 0s 796us/step\n"
     ]
    },
    {
     "data": {
      "text/plain": [
       "[0.1437661323631019, 0.9590643048286438]"
      ]
     },
     "execution_count": 107,
     "metadata": {},
     "output_type": "execute_result"
    }
   ],
   "source": [
    "ann_model.evaluate(x_test,y_test)"
   ]
  },
  {
   "cell_type": "markdown",
   "metadata": {},
   "source": [
    "### You can use the library keras to contruct the ANN. Since we are dealing with a classification problem, we recommend binary_crossentropy as a loss function.\n",
    "Choose a reasonable batch size and epoch count and train the model.\n",
    "### Here again, print the testing dataset accuracy:"
   ]
  },
  {
   "cell_type": "code",
   "execution_count": 108,
   "metadata": {},
   "outputs": [
    {
     "name": "stdout",
     "output_type": "stream",
     "text": [
      "\n",
      "testing set accuracy with logit is: 0.9590643048286438\n"
     ]
    }
   ],
   "source": [
    "ANNacc = \"0.9590643048286438\"\n",
    "print(f\"\\ntesting set accuracy with logit is: {ANNacc}\")"
   ]
  },
  {
   "cell_type": "markdown",
   "metadata": {},
   "source": [
    "### 1. c) Compare the performance of the neural net with the logit. Which one seems better at the job and why might that be?\n",
    "Please also comment on which model you would choose to implement in a case like this and why."
   ]
  },
  {
   "cell_type": "code",
   "execution_count": 113,
   "metadata": {},
   "outputs": [
    {
     "data": {
      "text/plain": [
       "'\\nLooking at both models, both have high accuracy: Logistic Regression = 0.96 and Neural Network = 0.96.'"
      ]
     },
     "execution_count": 113,
     "metadata": {},
     "output_type": "execute_result"
    }
   ],
   "source": [
    "'''\n",
    "Looking at both models, both have high accuracy: Logistic Regression = 0.96 and Neural Network = 0.96. If more \n",
    "experiments are run, the Neural Network could reach a higher accuracy. Due to easy interpretation, I would choose the Logistic Regression.\n",
    "However, more analysis would be needed to eliminate the possibility of overfitting, as accuracy is very close to 100%.'''"
   ]
  },
  {
   "cell_type": "markdown",
   "metadata": {},
   "source": [
    "# Question 2:\n",
    "### Your coding skills have gained you a job as an options trader at a successful hedge fund! Congratulations!!\n",
    "\n",
    "At the first day, your boss comes to you and asks you, whether he should buy a _call option_* with a certain set of characteristics for 1€.\n",
    "\n",
    "    *A call option gives you the right (but not obligation) to buy a share for a certain strike price. In other words, if the stock price is higher than the strike price, you get the difference, otherwise, you get 0: \n",
    "    \n",
    "    callpayoff = max(stockprice - strikeprice, 0) \n",
    "\n",
    "To price the option, you shall build a monte-carlo simulator which generatates _1 000 000_ random walks, each representing the stock price in one year, which is when the option can be expired. By taking the average of these payouts, you will get the expected payout at expiry!\n",
    "\n",
    "Luckily, your boss has also given you the characteristics and hints for how the stock price moves: \n",
    "\n",
    "The stock price follows a student T distribution with 3 degrees of freedom (the rvs function within the t class from scipy.stats package is a great tool for creating random walks with this distribution: https://docs.scipy.org/doc/scipy/reference/generated/scipy.stats.t.html  ctrl+f \"rvs\") \n",
    "\n",
    "- The stock price today: 69\n",
    "- Stock returns follow student T distribution with 3 degrees of freedom\n",
    "- drift of 10% per year \n",
    "- volatility of 20%\n",
    "- strike price of the option is 96\n",
    "\n",
    "### Build a function that returns the price of the call option, and shows your boss what payout he can expect from the option in order to explain him, whether he should buy it or not.\n",
    "\n",
    "    P.S.: If you run into trouble on your way, you can always ask for tips from your boss and since he is a nice guy, he will also give a good grade for all attempts!"
   ]
  },
  {
   "cell_type": "code",
   "execution_count": null,
   "metadata": {},
   "outputs": [],
   "source": [
    "# generate random numbers \n",
    "import numpy as np\n",
    "from scipy.stats import t\n",
    "days = 365  \n",
    "dt = 1/float(days)\n",
    "stockprice = 69\n",
    "drift = 0.1\n",
    "volatility = 0.2 \n",
    "strikeprice = 96\n",
    "N = 10000 #as 1000000 would take too long"
   ]
  },
  {
   "cell_type": "code",
   "execution_count": null,
   "metadata": {},
   "outputs": [],
   "source": [
    "def random_walk(startprice):\n",
    "    price = np.zeros(days)\n",
    "    shock = np.zeros(days)\n",
    "    price[0] = startprice\n",
    "    for i in range(1, days):\n",
    "        shock[i] = t.rvs(3, loc=drift * dt, scale=volatility * np.sqrt(dt))\n",
    "        price[i] = max(0, price[i-1] + shock[i] * price[i-1])\n",
    "    return price[days-1]"
   ]
  },
  {
   "cell_type": "code",
   "execution_count": null,
   "metadata": {},
   "outputs": [],
   "source": [
    "iterations=np.array([])\n",
    "for run in range(N):\n",
    "    iterations = np.append(iterations, random_walk(stockprice))\n",
    "    if run%1000==0:\n",
    "      print(\"Work in progress: \",run)"
   ]
  },
  {
   "cell_type": "code",
   "execution_count": null,
   "metadata": {},
   "outputs": [],
   "source": [
    "callpayoff = max(stockprice - strikeprice, 0) \n",
    "print(callpayoff)"
   ]
  },
  {
   "cell_type": "code",
   "execution_count": 31,
   "metadata": {},
   "outputs": [
    {
     "data": {
      "text/plain": [
       "\"\\nThis is your boss' favourite cell for option pricing\\n\""
      ]
     },
     "execution_count": 31,
     "metadata": {},
     "output_type": "execute_result"
    }
   ],
   "source": [
    "'''\n",
    "This is your boss' favourite cell for option pricing \n",
    "'''"
   ]
  },
  {
   "cell_type": "markdown",
   "metadata": {},
   "source": [
    "# Good luck!\n",
    "\n",
    "Don't forget: google, github and stack overflow are your best friends!\n"
   ]
  }
 ],
 "metadata": {
  "kernelspec": {
   "display_name": "Python 3",
   "language": "python",
   "name": "python3"
  },
  "language_info": {
   "codemirror_mode": {
    "name": "ipython",
    "version": 3
   },
   "file_extension": ".py",
   "mimetype": "text/x-python",
   "name": "python",
   "nbconvert_exporter": "python",
   "pygments_lexer": "ipython3",
   "version": "3.7.9"
  }
 },
 "nbformat": 4,
 "nbformat_minor": 4
}
